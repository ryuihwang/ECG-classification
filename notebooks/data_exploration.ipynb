{
 "cells": [
  {
   "cell_type": "code",
   "execution_count": null,
   "metadata": {},
   "outputs": [],
   "source": [
    "X, y = np.concatenate([X_train, X_val, X_eval]), np.concatenate([y_train, y_val, y_eval])\n",
    "\n",
    "model = Net1D(in_channels=1, num_classes=1).to(device)\n",
    "results = cross_validate(model, X, y, num_folds=10, num_epochs=15)\n",
    "print(results)"
   ]
  },
  {
   "cell_type": "code",
   "execution_count": null,
   "metadata": {},
   "outputs": [],
   "source": [
    "model.eval()\n",
    "probs = []\n",
    "preds = []\n",
    "labels = []\n",
    "study_ids = []\n",
    "\n",
    "with torch.no_grad():s\n",
    "    for inputs, target, study_id_batch in zip(eval_loader.dataset.tensors[0], eval_loader.dataset.tensors[1], study_ids_eval):\n",
    "        inputs = inputs.unsqueeze(0).to(device) \n",
    "        target = target.to(device)\n",
    "        outputs = model(inputs)\n",
    "        probabilities = torch.sigmoid(outputs).cpu().numpy()\n",
    "        predictions = (probabilities > 0.1).astype(int)\n",
    "\n",
    "        probs.extend(probabilities.flatten())\n",
    "        preds.extend(predictions.flatten())\n",
    "        labels.extend(target.cpu().numpy().flatten())\n",
    "\n",
    "        study_ids.append(study_id_batch)\n",
    "\n",
    "probs = np.array(probs)\n",
    "preds = np.array(preds).astype(str)\n",
    "labels = np.array(labels).astype(str)\n",
    "study_ids = np.array(study_ids).astype(str)\n",
    "\n",
    "results_df = pd.DataFrame({\n",
    "    'study_id': study_ids,\n",
    "    'PROB': probs,\n",
    "    'PRED': preds,\n",
    "    'LABEL': labels\n",
    "})\n",
    "\n",
    "print(results_df.head())\n",
    "\n",
    "results_df.to_csv('new_directory/result/second_ex.csv', index=False)"
   ]
  },
  {
   "cell_type": "code",
   "execution_count": null,
   "metadata": {},
   "outputs": [],
   "source": [
    "from sklearn.metrics import classification_report\n",
    "\n",
    "preds = preds.astype(int)\n",
    "y_eval = y_eval.astype(int)\n",
    "\n",
    "report = classification_report(y_eval, preds, target_names=[\"Class 0\", \"Class 1\"])\n",
    "print(report)"
   ]
  }
 ],
 "metadata": {
  "language_info": {
   "name": "python"
  }
 },
 "nbformat": 4,
 "nbformat_minor": 2
}
