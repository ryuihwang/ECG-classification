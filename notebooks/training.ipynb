{
 "cells": [
  {
   "cell_type": "code",
   "execution_count": null,
   "metadata": {},
   "outputs": [],
   "source": [
    "import torch\n",
    "import torch.nn as nn\n",
    "import torch.optim as optim\n",
    "from torch.utils.data import DataLoader, TensorDataset\n",
    "from sklearn.model_selection import KFold\n",
    "from sklearn.metrics import roc_auc_score, f1_score, precision_score, recall_score, roc_curve\n",
    "import numpy as np\n",
    "import matplotlib.pyplot as plt\n",
    "import torch.nn.functional as F\n",
    "\n",
    "model = Net1D(in_channels=1, num_classes=1).to(device)\n",
    "model.apply(weights_init)\n",
    "\n",
    "class_weights = torch.tensor([1.0, len(y_train) / np.sum(y_train == 1)], dtype=torch.float32)\n",
    "criterion = nn.BCEWithLogitsLoss(pos_weight=class_weights.to(device))\n",
    "\n",
    "optimizer = optim.Adam(model.parameters(), lr=0.0001, weight_decay=0.01)"
   ]
  },
  {
   "cell_type": "code",
   "execution_count": null,
   "metadata": {},
   "outputs": [],
   "source": [
    "X, y = np.concatenate([X_train, X_val, X_eval]), np.concatenate([y_train, y_val, y_eval])\n",
    "\n",
    "model = Net1D(in_channels=1, num_classes=1).to(device)\n",
    "results = cross_validate(model, X, y, num_folds=10, num_epochs=15)\n",
    "print(results)"
   ]
  }
 ],
 "metadata": {
  "language_info": {
   "name": "python"
  }
 },
 "nbformat": 4,
 "nbformat_minor": 2
}
